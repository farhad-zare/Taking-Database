{
 "cells": [
  {
   "cell_type": "code",
   "execution_count": 1,
   "metadata": {},
   "outputs": [],
   "source": [
    "# install the packages you may need. Here the essential package is selenium\n",
    "from selenium import webdriver\n",
    "from chromedriver_py import binary_path # this will get you the path variable\n",
    "from selenium.webdriver.support.ui import Select\n",
    "import time\n",
    "from random import randint"
   ]
  },
  {
   "cell_type": "code",
   "execution_count": 2,
   "metadata": {},
   "outputs": [],
   "source": [
    "# choose chrome or some driver you are going to use. \n",
    "driver = webdriver.Chrome(executable_path=binary_path)\n",
    "# URL of website\n",
    "url = \"https://endotheliomics.shinyapps.io/endodb/\"\n",
    " \n",
    "# Opening the website\n",
    "driver.get(url)"
   ]
  },
  {
   "cell_type": "code",
   "execution_count": 4,
   "metadata": {},
   "outputs": [],
   "source": [
    "element1=driver.find_element_by_id(\"sidebarItemExpanded\").find_element_by_class_name(\"sidebar-menu\").find_element_by_class_name(\"treeview\")"
   ]
  },
  {
   "cell_type": "code",
   "execution_count": 5,
   "metadata": {},
   "outputs": [],
   "source": [
    "element2=element1.find_element_by_xpath(\"//ul[@class='treeview-menu menu-open']/li[1]\")"
   ]
  },
  {
   "cell_type": "code",
   "execution_count": 6,
   "metadata": {},
   "outputs": [],
   "source": [
    "element2.click()\n",
    "# Please go to your driver(chrome)/setting/advanced choose your location for downloading the files"
   ]
  },
  {
   "cell_type": "code",
   "execution_count": 7,
   "metadata": {},
   "outputs": [],
   "source": [
    "element3=Select(driver.find_element_by_xpath(\"//*[@id='DataTables_Table_0_length']/label/select\")).select_by_value(\"100\")"
   ]
  },
  {
   "cell_type": "code",
   "execution_count": null,
   "metadata": {},
   "outputs": [],
   "source": [
    "List=[0]"
   ]
  },
  {
   "cell_type": "code",
   "execution_count": 1,
   "metadata": {},
   "outputs": [
    {
     "ename": "NameError",
     "evalue": "name 'Select' is not defined",
     "output_type": "error",
     "traceback": [
      "\u001b[0;31m---------------------------------------------------------------------------\u001b[0m",
      "\u001b[0;31mNameError\u001b[0m                                 Traceback (most recent call last)",
      "\u001b[0;32m<ipython-input-1-b582b6ff9e29>\u001b[0m in \u001b[0;36m<module>\u001b[0;34m\u001b[0m\n\u001b[1;32m      3\u001b[0m \u001b[0mX\u001b[0m\u001b[0;34m=\u001b[0m\u001b[0;34m[\u001b[0m\u001b[0mi\u001b[0m \u001b[0;32mfor\u001b[0m \u001b[0mi\u001b[0m \u001b[0;32min\u001b[0m \u001b[0mrange\u001b[0m\u001b[0;34m(\u001b[0m\u001b[0;36m1\u001b[0m\u001b[0;34m,\u001b[0m\u001b[0;36m370\u001b[0m\u001b[0;34m)\u001b[0m \u001b[0;32mif\u001b[0m \u001b[0mi\u001b[0m\u001b[0;34m!=\u001b[0m\u001b[0;36m202\u001b[0m\u001b[0;34m]\u001b[0m\u001b[0;34m\u001b[0m\u001b[0;34m\u001b[0m\u001b[0m\n\u001b[1;32m      4\u001b[0m \u001b[0;32mfor\u001b[0m \u001b[0mi\u001b[0m \u001b[0;32min\u001b[0m \u001b[0mX\u001b[0m\u001b[0;34m:\u001b[0m\u001b[0;34m\u001b[0m\u001b[0;34m\u001b[0m\u001b[0m\n\u001b[0;32m----> 5\u001b[0;31m     \u001b[0melement3\u001b[0m\u001b[0;34m=\u001b[0m\u001b[0mSelect\u001b[0m\u001b[0;34m(\u001b[0m\u001b[0mdriver\u001b[0m\u001b[0;34m.\u001b[0m\u001b[0mfind_element_by_xpath\u001b[0m\u001b[0;34m(\u001b[0m\u001b[0;34m\"//*[@id='DataTables_Table_0_length']/label/select\"\u001b[0m\u001b[0;34m)\u001b[0m\u001b[0;34m)\u001b[0m\u001b[0;34m.\u001b[0m\u001b[0mselect_by_value\u001b[0m\u001b[0;34m(\u001b[0m\u001b[0;34m\"100\"\u001b[0m\u001b[0;34m)\u001b[0m\u001b[0;34m\u001b[0m\u001b[0;34m\u001b[0m\u001b[0m\n\u001b[0m\u001b[1;32m      6\u001b[0m     \u001b[0;32mif\u001b[0m \u001b[0mi\u001b[0m \u001b[0;32min\u001b[0m \u001b[0;34m[\u001b[0m\u001b[0;36m101\u001b[0m\u001b[0;34m,\u001b[0m\u001b[0;36m201\u001b[0m\u001b[0;34m,\u001b[0m\u001b[0;36m301\u001b[0m\u001b[0;34m]\u001b[0m\u001b[0;34m:\u001b[0m\u001b[0;34m\u001b[0m\u001b[0;34m\u001b[0m\u001b[0m\n\u001b[1;32m      7\u001b[0m         \u001b[0melement4\u001b[0m\u001b[0;34m=\u001b[0m\u001b[0mdriver\u001b[0m\u001b[0;34m.\u001b[0m\u001b[0mfind_element_by_xpath\u001b[0m\u001b[0;34m(\u001b[0m\u001b[0;34m\"//a[@class='paginate_button next']\"\u001b[0m\u001b[0;34m)\u001b[0m\u001b[0;34m.\u001b[0m\u001b[0mclick\u001b[0m\u001b[0;34m(\u001b[0m\u001b[0;34m)\u001b[0m\u001b[0;34m\u001b[0m\u001b[0;34m\u001b[0m\u001b[0m\n",
      "\u001b[0;31mNameError\u001b[0m: name 'Select' is not defined"
     ]
    }
   ],
   "source": [
    "# 202 is not choosable in this way, If this loop is stuped, Run this cell again.  \n",
    "\n",
    "X=[i for i in range(List[0]+1,370) if i!=202]\n",
    "for i in X:\n",
    "    element3=Select(driver.find_element_by_xpath(\"//*[@id='DataTables_Table_0_length']/label/select\")).select_by_value(\"100\")    \n",
    "    if i in [101,201,301]:\n",
    "        element4=driver.find_element_by_xpath(\"//a[@class='paginate_button next']\").click()\n",
    "        time.sleep(3)\n",
    "    if i not in [100,200,300]:\n",
    "            j=i%100\n",
    "    else:\n",
    "        j=100\n",
    "    element6=driver.find_element_by_xpath(\"//*[@id='DataTables_Table_0_wrapper']/div[3]\")\n",
    "    element7=element6.find_element_by_xpath(f\"//*[@id='DataTables_Table_0']/tbody/tr[{j}]/td[8]\").click()\n",
    "    time.sleep(3)\n",
    "    element8=driver.find_element_by_id(\"dashboardPage\").find_element_by_class_name(\"wrapper\")\n",
    "    element9=element8.find_element_by_class_name(\"tab-content\").find_element_by_class_name(\"row\")\n",
    "    element10=element9.find_element_by_xpath(\"//div[@id='studyInformationResultsDiv']\").find_element_by_class_name(\"col-sm-4\").find_element_by_class_name(\"box-body\")\n",
    "    #element10.find_element_by_xpath(\"//a[@id='exportMetadata']\").click()\n",
    "    #time.sleep(randint(3,5))\n",
    "    element10.find_element_by_xpath(\"//a[@id='exportData']\").click()\n",
    "    time.sleep(randint(3,10))\n",
    "    element2.click()\n",
    "    time.sleep(5)\n",
    "    List[0]=i\n",
    "driver.close()    "
   ]
  }
 ],
 "metadata": {
  "kernelspec": {
   "display_name": "Python 3",
   "language": "python",
   "name": "python3"
  },
  "language_info": {
   "codemirror_mode": {
    "name": "ipython",
    "version": 3
   },
   "file_extension": ".py",
   "mimetype": "text/x-python",
   "name": "python",
   "nbconvert_exporter": "python",
   "pygments_lexer": "ipython3",
   "version": "3.7.4"
  }
 },
 "nbformat": 4,
 "nbformat_minor": 2
}
